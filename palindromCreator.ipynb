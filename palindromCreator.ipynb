{
 "cells": [
  {
   "cell_type": "code",
   "execution_count": 1,
   "metadata": {},
   "outputs": [],
   "source": [
    "import random"
   ]
  },
  {
   "cell_type": "code",
   "execution_count": 2,
   "metadata": {},
   "outputs": [],
   "source": [
    "harfler = [\"0a0\", \"000a000\", \"00a00\", \"1a1\", \"11a11\", \"01a10\", \"10a01\", \"#\"]\n",
    "palindrom = [\"a\"]"
   ]
  },
  {
   "cell_type": "code",
   "execution_count": 3,
   "metadata": {},
   "outputs": [],
   "source": [
    "class palindromUret1():\n",
    "    harfler = [\"0a0\", \"000a000\", \"00a00\", \"1a1\", \"11a11\", \"01a10\", \"10a01\", \"#\"]\n",
    "    palindrom = [\"a\"]\n",
    "    def palindromUret(self):\n",
    "        palindrom = [\"a\"]\n",
    "        randomUzunluk = random.randint(1, 4)\n",
    "        for z in range(randomUzunluk):\n",
    "            rastgeleEleman = harfler[int(random.randint(0, 7))]\n",
    "            gecis = palindrom.index(\"a\")\n",
    "            uzunluk = len(list(rastgeleEleman))\n",
    "            for x in range(uzunluk):\n",
    "                if rastgeleEleman == '#':\n",
    "                    palindrom.insert(gecis + 1, rastgeleEleman[x])\n",
    "                    palindrom.pop(gecis)\n",
    "                    print(palindrom)\n",
    "                    return\n",
    "                palindrom.insert(gecis+1, rastgeleEleman[x])  # palindrom = [\"a\", \"1\", \"a\", \"1\"]\n",
    "            palindrom.pop(gecis)\n",
    "        print(\"Palindrom:\", palindrom)"
   ]
  },
  {
   "cell_type": "code",
   "execution_count": null,
   "metadata": {},
   "outputs": [],
   "source": [
    "def yazdir():\n",
    "    palindrom = [\"a\"]\n",
    "    randomUzunluk = random.randint(1, 4)\n",
    "    for z in range(randomUzunluk):\n",
    "        rastgeleEleman = harfler[int(random.randint(0, 6))]\n",
    "        uzunluk = len(list(rastgeleEleman))\n",
    "        gecis = palindrom.index(\"a\")\n",
    "        for x in range(uzunluk):\n",
    "            palindrom.insert(gecis+1, rastgeleEleman[x])\n",
    "        palindrom.pop(gecis)\n",
    "    asilKelime = \"\"\n",
    "    for c in range(len(palindrom)):\n",
    "        asilKelime += palindrom[c]\n",
    "    print(asilKelime)"
   ]
  },
  {
   "cell_type": "markdown",
   "metadata": {},
   "source": [
    "0001a1000"
   ]
  },
  {
   "cell_type": "code",
   "execution_count": null,
   "metadata": {},
   "outputs": [],
   "source": [
    "def uzunluk(palindrom11, palindrom22):"
   ]
  },
  {
   "cell_type": "code",
   "execution_count": null,
   "metadata": {},
   "outputs": [],
   "source": [
    "    if len(palindrom11) == len(palindrom22):\n",
    "         palindrom1uzunluk = len(palindrom11)\n",
    "         #palindrom1 kontrol\n",
    "         palikontrol1 = 3\n",
    "         palikontrol2 = 4\n",
    "         adimSayisi = (((palindrom1uzunluk + 1) / 2) - 1)\n",
    "         ilkAdim = 0\n",
    "         sonAdim = palindrom1uzunluk-1\n",
    "         while (ilkAdim != adimSayisi + 1):\n",
    "             if (ilkAdim == adimSayisi):\n",
    "                 if (palindrom11[ilkAdim] == palindrom11[sonAdim]):\n",
    "                     palikontrol1 = 1\n",
    "             if (palindrom11[ilkAdim] != palindrom11[sonAdim]):\n",
    "                 print(\"1. Kelime palindrom deÄŸil!\")\n",
    "                 return\n",
    "             elif (palindrom11[ilkAdim] == palindrom11[sonAdim]):\n",
    "                 ilkAdim += 1;\n",
    "                 sonAdim -= 1;\n",
    "             else:\n",
    "                 break\n",
    "         #palindrom2 kontrol\n",
    "         palindrom2uzunluk = len(palindrom22)\n",
    "         adimSayisi = (((palindrom2uzunluk + 1) / 2) - 1)\n",
    "         ilkAdim = 0\n",
    "         sonAdim = palindrom2uzunluk - 1\n",
    "         while ilkAdim != adimSayisi + 1:\n",
    "             if ilkAdim == adimSayisi:\n",
    "                 if palindrom22[ilkAdim] == palindrom22[sonAdim]:\n",
    "                     palikontrol2 = 1\n",
    "             if palindrom22[ilkAdim] != palindrom22[sonAdim]:\n",
    "                 print(\"2. Kelime palindrom deÄŸil!\")\n",
    "                 return\n",
    "             elif palindrom22[ilkAdim] == palindrom22[sonAdim]:\n",
    "                 ilkAdim += 1;\n",
    "                 sonAdim -= 1;\n",
    "             else:\n",
    "                 break"
   ]
  },
  {
   "cell_type": "code",
   "execution_count": null,
   "metadata": {},
   "outputs": [],
   "source": [
    "         if palikontrol1 == palikontrol2:\n",
    "            print(palindrom11,\" ve \", palindrom22,\" kelimeleri aynÄ± uzunlukta ve palindrom\")\n",
    "         else:\n",
    "             print(\"Kelimeler palindrom ama aynÄ± uzunlukta deÄŸil\")\n",
    "    else:\n",
    "        print(\"Girilen kelimeler aynÄ± uzunlukta deÄŸil\")"
   ]
  },
  {
   "cell_type": "code",
   "execution_count": null,
   "metadata": {},
   "outputs": [],
   "source": [
    "class unlemliPalindrom1(palindromUret1):\n",
    "    def palindromUret(self):\n",
    "         palindrom = [\"a\"]\n",
    "         randomUzunluk = random.randint(1, 4)\n",
    "         for z in range(randomUzunluk):\n",
    "             rastgeleEleman = harfler[\n",
    "                 int(random.randint(0, 7))]\n",
    "             gecis = palindrom.index(\"a\")\n",
    "             uzunluk = len(list(rastgeleEleman))\n",
    "             for x in range(uzunluk):\n",
    "                 if rastgeleEleman == '#':\n",
    "                     palindrom.insert(gecis + 1, rastgeleEleman[x])\n",
    "                     palindrom.pop(gecis)\n",
    "                     print(palindrom)\n",
    "                     return\n",
    "                 palindrom.insert(gecis + 1, rastgeleEleman[x])  # palindrom = [\"a\", \"1\", \"a\", \"1\"]\n",
    "             palindrom.pop(gecis)\n",
    "         palindrom.insert(0, '!')\n",
    "         palindrom.append('!')\n",
    "         print(\"Palindrom:\", palindrom)"
   ]
  },
  {
   "cell_type": "code",
   "execution_count": null,
   "metadata": {},
   "outputs": [],
   "source": [
    "print(\"------------------\")\n",
    "object2 = unlemliPalindrom1()\n",
    "print(\"Ãœnlemli Palindrom Ãœretme:\")\n",
    "object2.palindromUret()\n",
    "print(\"------------------\")\n",
    "print(\"Palindrom Ãœretme:\")\n",
    "object = palindromUret1()\n",
    "object.palindromUret()"
   ]
  },
  {
   "cell_type": "code",
   "execution_count": null,
   "metadata": {},
   "outputs": [],
   "source": [
    "print(\"------------------\")\n",
    "print(\"YazdÄ±rma:\")\n",
    "yazdir()"
   ]
  },
  {
   "cell_type": "code",
   "execution_count": null,
   "metadata": {},
   "outputs": [],
   "source": [
    "print(\"------------------\")\n",
    "print(\"Uzunluk test etme:\")\n",
    "uzunluk('001a100', '000a000')\n",
    "print(\"------------------\")"
   ]
  }
 ],
 "metadata": {
  "kernelspec": {
   "display_name": "Python 3",
   "language": "python",
   "name": "python3"
  },
  "language_info": {
   "codemirror_mode": {
    "name": "ipython",
    "version": 3
   },
   "file_extension": ".py",
   "mimetype": "text/x-python",
   "name": "python",
   "nbconvert_exporter": "python",
   "pygments_lexer": "ipython3",
   "version": "3.6.4"
  }
 },
 "nbformat": 4,
 "nbformat_minor": 2
}
